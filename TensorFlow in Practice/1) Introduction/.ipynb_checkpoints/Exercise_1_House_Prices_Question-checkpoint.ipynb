{
 "cells": [
  {
   "cell_type": "markdown",
   "metadata": {
    "colab_type": "text",
    "id": "mw2VBrBcgvGa"
   },
   "source": [
    "In this exercise you'll try to build a neural network that predicts the price of a house according to a simple formula.\n",
    "\n",
    "So, imagine if house pricing was as easy as a house costs 50k + 50k per bedroom, so that a 1 bedroom house costs 100k, a 2 bedroom house costs 150k etc.\n",
    "\n",
    "How would you create a neural network that learns this relationship so that it would predict a 7 bedroom house as costing close to 400k etc.\n",
    "\n",
    "Hint: Your network might work better if you scale the house price down. You don't have to give the answer 400...it might be better to create something that predicts the number 4, and then your answer is in the 'hundreds of thousands' etc."
   ]
  },
  {
   "cell_type": "code",
   "execution_count": 1,
   "metadata": {},
   "outputs": [],
   "source": [
    "import tensorflow as tf\n",
    "import numpy as np\n",
    "from tensorflow import keras"
   ]
  },
  {
   "cell_type": "code",
   "execution_count": 2,
   "metadata": {},
   "outputs": [],
   "source": [
    "from tensorflow.keras.layers import Dense"
   ]
  },
  {
   "cell_type": "code",
   "execution_count": 30,
   "metadata": {
    "colab": {},
    "colab_type": "code",
    "id": "PUNO2E6SeURH"
   },
   "outputs": [],
   "source": [
    "# GRADED FUNCTION: house_model\n",
    "def house_model(y_new):\n",
    "    xs = [i for i in range(0,3)]# Your Code Here#\n",
    "    xs = np.repeat(xs,1000).reshape((-1,1))\n",
    "    ys = np.array([0.5 + .5*x[0] for x in xs]).reshape((-1,1))    \n",
    "    model = tf.keras.Sequential()\n",
    "    model.add(keras.layers.Dense(units=1, input_shape=(1,)))\n",
    "    model.compile(optimizer=\"sgd\", loss=\"mean_absolute_error\")\n",
    "    model.fit(xs,ys,epochs=20)\n",
    "    return model.predict(y_new)[0]"
   ]
  },
  {
   "cell_type": "code",
   "execution_count": 31,
   "metadata": {},
   "outputs": [
    {
     "name": "stdout",
     "output_type": "stream",
     "text": [
      "Epoch 1/20\n",
      "3000/3000 [==============================] - 1s 401us/sample - loss: 1.7694\n",
      "Epoch 2/20\n",
      "3000/3000 [==============================] - 1s 204us/sample - loss: 0.6168\n",
      "Epoch 3/20\n",
      "3000/3000 [==============================] - 1s 232us/sample - loss: 0.1297\n",
      "Epoch 4/20\n",
      "3000/3000 [==============================] - 1s 231us/sample - loss: 0.0105\n",
      "Epoch 5/20\n",
      "3000/3000 [==============================] - 1s 204us/sample - loss: 0.0097\n",
      "Epoch 6/20\n",
      "3000/3000 [==============================] - 1s 228us/sample - loss: 0.0096\n",
      "Epoch 7/20\n",
      "3000/3000 [==============================] - 1s 204us/sample - loss: 0.0100\n",
      "Epoch 8/20\n",
      "3000/3000 [==============================] - 1s 230us/sample - loss: 0.0100\n",
      "Epoch 9/20\n",
      "3000/3000 [==============================] - 1s 232us/sample - loss: 0.0097\n",
      "Epoch 10/20\n",
      "3000/3000 [==============================] - 1s 231us/sample - loss: 0.0098\n",
      "Epoch 11/20\n",
      "3000/3000 [==============================] - 1s 205us/sample - loss: 0.0095\n",
      "Epoch 12/20\n",
      "3000/3000 [==============================] - 1s 230us/sample - loss: 0.0100\n",
      "Epoch 13/20\n",
      "3000/3000 [==============================] - 1s 235us/sample - loss: 0.0095\n",
      "Epoch 14/20\n",
      "3000/3000 [==============================] - 1s 202us/sample - loss: 0.0095\n",
      "Epoch 15/20\n",
      "3000/3000 [==============================] - 1s 206us/sample - loss: 0.0099\n",
      "Epoch 16/20\n",
      "3000/3000 [==============================] - 1s 230us/sample - loss: 0.0099\n",
      "Epoch 17/20\n",
      "3000/3000 [==============================] - 1s 235us/sample - loss: 0.0098\n",
      "Epoch 18/20\n",
      "3000/3000 [==============================] - 1s 229us/sample - loss: 0.0099\n",
      "Epoch 19/20\n",
      "3000/3000 [==============================] - 1s 201us/sample - loss: 0.0095\n",
      "Epoch 20/20\n",
      "3000/3000 [==============================] - 1s 229us/sample - loss: 0.0099\n",
      "[4.0547047]\n"
     ]
    }
   ],
   "source": [
    "prediction = house_model([7.0])\n",
    "print(prediction)"
   ]
  },
  {
   "cell_type": "code",
   "execution_count": 5,
   "metadata": {},
   "outputs": [],
   "source": [
    "# Now click the 'Submit Assignment' button above.\n",
    "# Once that is complete, please run the following two cells to save your work and close the notebook"
   ]
  },
  {
   "cell_type": "code",
   "execution_count": null,
   "metadata": {},
   "outputs": [],
   "source": [
    "# %%javascript\n",
    "# <!-- Save the notebook -->\n",
    "# IPython.notebook.save_checkpoint();"
   ]
  },
  {
   "cell_type": "code",
   "execution_count": null,
   "metadata": {},
   "outputs": [],
   "source": [
    "#%%javascript\n",
    "#IPython.notebook.session.delete();\n",
    "#window.onbeforeunload = null\n",
    "#setTimeout(function() { window.close(); }, 1000);"
   ]
  }
 ],
 "metadata": {
  "coursera": {
   "course_slug": "introduction-tensorflow",
   "graded_item_id": "jRjw8",
   "launcher_item_id": "YoQKl"
  },
  "kernelspec": {
   "display_name": "Python 3",
   "language": "python",
   "name": "python3"
  },
  "language_info": {
   "codemirror_mode": {
    "name": "ipython",
    "version": 3
   },
   "file_extension": ".py",
   "mimetype": "text/x-python",
   "name": "python",
   "nbconvert_exporter": "python",
   "pygments_lexer": "ipython3",
   "version": "3.6.8"
  }
 },
 "nbformat": 4,
 "nbformat_minor": 2
}
