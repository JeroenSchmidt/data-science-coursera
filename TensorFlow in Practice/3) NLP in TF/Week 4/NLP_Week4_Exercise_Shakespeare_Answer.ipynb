{
 "cells": [
  {
   "cell_type": "code",
   "execution_count": null,
   "metadata": {
    "colab": {},
    "colab_type": "code",
    "id": "zX4Kg8DUTKWO"
   },
   "outputs": [],
   "source": [
    "#@title Licensed under the Apache License, Version 2.0 (the \"License\");\n",
    "# you may not use this file except in compliance with the License.\n",
    "# You may obtain a copy of the License at\n",
    "#\n",
    "# https://www.apache.org/licenses/LICENSE-2.0\n",
    "#\n",
    "# Unless required by applicable law or agreed to in writing, software\n",
    "# distributed under the License is distributed on an \"AS IS\" BASIS,\n",
    "# WITHOUT WARRANTIES OR CONDITIONS OF ANY KIND, either express or implied.\n",
    "# See the License for the specific language governing permissions and\n",
    "# limitations under the License."
   ]
  },
  {
   "cell_type": "code",
   "execution_count": null,
   "metadata": {
    "colab": {},
    "colab_type": "code",
    "id": "BOwsuGQQY9OL"
   },
   "outputs": [],
   "source": [
    "from tensorflow.keras.preprocessing.sequence import pad_sequences\n",
    "from tensorflow.keras.layers import Embedding, LSTM, Dense, Dropout, Bidirectional\n",
    "from tensorflow.keras.preprocessing.text import Tokenizer\n",
    "from tensorflow.keras.models import Sequential\n",
    "from tensorflow.keras.optimizers import Adam\n",
    "from tensorflow.keras import regularizers\n",
    "import tensorflow.keras.utils as ku \n",
    "import numpy as np "
   ]
  },
  {
   "cell_type": "code",
   "execution_count": 3,
   "metadata": {
    "colab": {
     "base_uri": "https://localhost:8080/",
     "height": 204
    },
    "colab_type": "code",
    "id": "PRnDnCW-Z7qv",
    "outputId": "ffc7f5fb-fd16-49b2-c121-e0dda7c8ff02"
   },
   "outputs": [
    {
     "name": "stdout",
     "output_type": "stream",
     "text": [
      "--2020-05-08 11:15:18--  https://storage.googleapis.com/laurencemoroney-blog.appspot.com/sonnets.txt\n",
      "Resolving storage.googleapis.com (storage.googleapis.com)... 74.125.197.128, 2607:f8b0:400e:c09::80\n",
      "Connecting to storage.googleapis.com (storage.googleapis.com)|74.125.197.128|:443... connected.\n",
      "HTTP request sent, awaiting response... 200 OK\n",
      "Length: 93578 (91K) [text/plain]\n",
      "Saving to: ‘/tmp/sonnets.txt’\n",
      "\n",
      "/tmp/sonnets.txt    100%[===================>]  91.38K  --.-KB/s    in 0.001s  \n",
      "\n",
      "2020-05-08 11:15:18 (108 MB/s) - ‘/tmp/sonnets.txt’ saved [93578/93578]\n",
      "\n"
     ]
    }
   ],
   "source": [
    "tokenizer = Tokenizer()\n",
    "!wget --no-check-certificate \\\n",
    "    https://storage.googleapis.com/laurencemoroney-blog.appspot.com/sonnets.txt \\\n",
    "    -O /tmp/sonnets.txt\n",
    "data = open('/tmp/sonnets.txt').read()\n",
    "\n",
    "corpus = data.lower().split(\"\\n\")\n",
    "\n",
    "\n",
    "tokenizer.fit_on_texts(corpus)\n",
    "total_words = len(tokenizer.word_index) + 1\n",
    "\n",
    "# create input sequences using list of tokens\n",
    "input_sequences = []\n",
    "for line in corpus:\n",
    "\ttoken_list = tokenizer.texts_to_sequences([line])[0]\n",
    "\tfor i in range(1, len(token_list)):\n",
    "\t\tn_gram_sequence = token_list[:i+1]\n",
    "\t\tinput_sequences.append(n_gram_sequence)\n",
    "\n",
    "\n",
    "# pad sequences \n",
    "max_sequence_len = max([len(x) for x in input_sequences])\n",
    "input_sequences = np.array(pad_sequences(input_sequences, maxlen=max_sequence_len, padding='pre'))\n",
    "\n",
    "# create predictors and label\n",
    "predictors, label = input_sequences[:,:-1],input_sequences[:,-1]\n",
    "\n",
    "label = ku.to_categorical(label, num_classes=total_words)"
   ]
  },
  {
   "cell_type": "code",
   "execution_count": 4,
   "metadata": {
    "colab": {
     "base_uri": "https://localhost:8080/",
     "height": 374
    },
    "colab_type": "code",
    "id": "w9vH8Y59ajYL",
    "outputId": "5be96eb9-ef92-43af-c8fe-10aae9a7efda"
   },
   "outputs": [
    {
     "name": "stdout",
     "output_type": "stream",
     "text": [
      "Model: \"sequential\"\n",
      "_________________________________________________________________\n",
      "Layer (type)                 Output Shape              Param #   \n",
      "=================================================================\n",
      "embedding (Embedding)        (None, 10, 100)           321100    \n",
      "_________________________________________________________________\n",
      "bidirectional (Bidirectional (None, 10, 300)           301200    \n",
      "_________________________________________________________________\n",
      "dropout (Dropout)            (None, 10, 300)           0         \n",
      "_________________________________________________________________\n",
      "lstm_1 (LSTM)                (None, 100)               160400    \n",
      "_________________________________________________________________\n",
      "dense (Dense)                (None, 1605)              162105    \n",
      "_________________________________________________________________\n",
      "dense_1 (Dense)              (None, 3211)              5156866   \n",
      "=================================================================\n",
      "Total params: 6,101,671\n",
      "Trainable params: 6,101,671\n",
      "Non-trainable params: 0\n",
      "_________________________________________________________________\n",
      "None\n"
     ]
    }
   ],
   "source": [
    "model = Sequential()\n",
    "model.add(Embedding(total_words, 100, input_length=max_sequence_len-1))\n",
    "model.add(Bidirectional(LSTM(150, return_sequences = True)))\n",
    "model.add(Dropout(0.2))\n",
    "model.add(LSTM(100))\n",
    "model.add(Dense(total_words/2, activation='relu', kernel_regularizer=regularizers.l2(0.01)))\n",
    "model.add(Dense(total_words, activation='softmax'))\n",
    "model.compile(loss='categorical_crossentropy', optimizer='adam', metrics=['accuracy'])\n",
    "print(model.summary())\n"
   ]
  },
  {
   "cell_type": "code",
   "execution_count": 5,
   "metadata": {
    "colab": {
     "base_uri": "https://localhost:8080/",
     "height": 1000
    },
    "colab_type": "code",
    "id": "AIg2f1HBxqof",
    "outputId": "b668b528-4c12-49e1-f8ed-731c777b0e30"
   },
   "outputs": [
    {
     "name": "stdout",
     "output_type": "stream",
     "text": [
      "Epoch 1/100\n",
      "484/484 [==============================] - 6s 12ms/step - loss: 6.9054 - accuracy: 0.0210\n",
      "Epoch 2/100\n",
      "484/484 [==============================] - 6s 12ms/step - loss: 6.5029 - accuracy: 0.0230\n",
      "Epoch 3/100\n",
      "484/484 [==============================] - 6s 12ms/step - loss: 6.4150 - accuracy: 0.0242\n",
      "Epoch 4/100\n",
      "484/484 [==============================] - 6s 12ms/step - loss: 6.3074 - accuracy: 0.0292\n",
      "Epoch 5/100\n",
      "484/484 [==============================] - 6s 12ms/step - loss: 6.2049 - accuracy: 0.0346\n",
      "Epoch 6/100\n",
      "484/484 [==============================] - 6s 12ms/step - loss: 6.1201 - accuracy: 0.0387\n",
      "Epoch 7/100\n",
      "484/484 [==============================] - 6s 12ms/step - loss: 6.0354 - accuracy: 0.0400\n",
      "Epoch 8/100\n",
      "484/484 [==============================] - 6s 12ms/step - loss: 5.9519 - accuracy: 0.0442\n",
      "Epoch 9/100\n",
      "484/484 [==============================] - 6s 12ms/step - loss: 5.8528 - accuracy: 0.0496\n",
      "Epoch 10/100\n",
      "484/484 [==============================] - 6s 12ms/step - loss: 5.7464 - accuracy: 0.0571\n",
      "Epoch 11/100\n",
      "484/484 [==============================] - 6s 12ms/step - loss: 5.6364 - accuracy: 0.0614\n",
      "Epoch 12/100\n",
      "484/484 [==============================] - 6s 11ms/step - loss: 5.5292 - accuracy: 0.0676\n",
      "Epoch 13/100\n",
      "484/484 [==============================] - 6s 12ms/step - loss: 5.4142 - accuracy: 0.0790\n",
      "Epoch 14/100\n",
      "484/484 [==============================] - 6s 11ms/step - loss: 5.2993 - accuracy: 0.0850\n",
      "Epoch 15/100\n",
      "484/484 [==============================] - 6s 12ms/step - loss: 5.1895 - accuracy: 0.0918\n",
      "Epoch 16/100\n",
      "484/484 [==============================] - 6s 12ms/step - loss: 5.0815 - accuracy: 0.1022\n",
      "Epoch 17/100\n",
      "484/484 [==============================] - 5s 11ms/step - loss: 4.9701 - accuracy: 0.1126\n",
      "Epoch 18/100\n",
      "484/484 [==============================] - 5s 11ms/step - loss: 4.8643 - accuracy: 0.1222\n",
      "Epoch 19/100\n",
      "484/484 [==============================] - 6s 12ms/step - loss: 4.7636 - accuracy: 0.1297\n",
      "Epoch 20/100\n",
      "484/484 [==============================] - 6s 12ms/step - loss: 4.6569 - accuracy: 0.1402\n",
      "Epoch 21/100\n",
      "484/484 [==============================] - 6s 12ms/step - loss: 4.5507 - accuracy: 0.1504\n",
      "Epoch 22/100\n",
      "484/484 [==============================] - 6s 12ms/step - loss: 4.4384 - accuracy: 0.1622\n",
      "Epoch 23/100\n",
      "484/484 [==============================] - 6s 12ms/step - loss: 4.3392 - accuracy: 0.1718\n",
      "Epoch 24/100\n",
      "484/484 [==============================] - 6s 12ms/step - loss: 4.2245 - accuracy: 0.1863\n",
      "Epoch 25/100\n",
      "484/484 [==============================] - 6s 12ms/step - loss: 4.1158 - accuracy: 0.2028\n",
      "Epoch 26/100\n",
      "484/484 [==============================] - 6s 12ms/step - loss: 4.0218 - accuracy: 0.2152\n",
      "Epoch 27/100\n",
      "484/484 [==============================] - 6s 12ms/step - loss: 3.9184 - accuracy: 0.2278\n",
      "Epoch 28/100\n",
      "484/484 [==============================] - 6s 12ms/step - loss: 3.8115 - accuracy: 0.2448\n",
      "Epoch 29/100\n",
      "484/484 [==============================] - 6s 11ms/step - loss: 3.7311 - accuracy: 0.2617\n",
      "Epoch 30/100\n",
      "484/484 [==============================] - 5s 11ms/step - loss: 3.6216 - accuracy: 0.2828\n",
      "Epoch 31/100\n",
      "484/484 [==============================] - 5s 11ms/step - loss: 3.5231 - accuracy: 0.3011\n",
      "Epoch 32/100\n",
      "484/484 [==============================] - 6s 11ms/step - loss: 3.4401 - accuracy: 0.3159\n",
      "Epoch 33/100\n",
      "484/484 [==============================] - 6s 12ms/step - loss: 3.3445 - accuracy: 0.3392\n",
      "Epoch 34/100\n",
      "484/484 [==============================] - 6s 11ms/step - loss: 3.2647 - accuracy: 0.3578\n",
      "Epoch 35/100\n",
      "484/484 [==============================] - 6s 11ms/step - loss: 3.1830 - accuracy: 0.3761\n",
      "Epoch 36/100\n",
      "484/484 [==============================] - 6s 12ms/step - loss: 3.0969 - accuracy: 0.3954\n",
      "Epoch 37/100\n",
      "484/484 [==============================] - 6s 11ms/step - loss: 3.0126 - accuracy: 0.4180\n",
      "Epoch 38/100\n",
      "484/484 [==============================] - 6s 11ms/step - loss: 2.9537 - accuracy: 0.4302\n",
      "Epoch 39/100\n",
      "484/484 [==============================] - 6s 11ms/step - loss: 2.8865 - accuracy: 0.4449\n",
      "Epoch 40/100\n",
      "484/484 [==============================] - 6s 11ms/step - loss: 2.8167 - accuracy: 0.4552\n",
      "Epoch 41/100\n",
      "484/484 [==============================] - 6s 12ms/step - loss: 2.7418 - accuracy: 0.4794\n",
      "Epoch 42/100\n",
      "484/484 [==============================] - 6s 12ms/step - loss: 2.6738 - accuracy: 0.4911\n",
      "Epoch 43/100\n",
      "484/484 [==============================] - 6s 12ms/step - loss: 2.6117 - accuracy: 0.5030\n",
      "Epoch 44/100\n",
      "484/484 [==============================] - 6s 12ms/step - loss: 2.5725 - accuracy: 0.5153\n",
      "Epoch 45/100\n",
      "484/484 [==============================] - 6s 12ms/step - loss: 2.4979 - accuracy: 0.5299\n",
      "Epoch 46/100\n",
      "484/484 [==============================] - 6s 12ms/step - loss: 2.4487 - accuracy: 0.5448\n",
      "Epoch 47/100\n",
      "484/484 [==============================] - 6s 12ms/step - loss: 2.3975 - accuracy: 0.5541\n",
      "Epoch 48/100\n",
      "484/484 [==============================] - 6s 12ms/step - loss: 2.3361 - accuracy: 0.5677\n",
      "Epoch 49/100\n",
      "484/484 [==============================] - 6s 12ms/step - loss: 2.2836 - accuracy: 0.5816\n",
      "Epoch 50/100\n",
      "484/484 [==============================] - 6s 12ms/step - loss: 2.2454 - accuracy: 0.5872\n",
      "Epoch 51/100\n",
      "484/484 [==============================] - 6s 12ms/step - loss: 2.2006 - accuracy: 0.5970\n",
      "Epoch 52/100\n",
      "484/484 [==============================] - 6s 12ms/step - loss: 2.1688 - accuracy: 0.6041\n",
      "Epoch 53/100\n",
      "484/484 [==============================] - 6s 12ms/step - loss: 2.1021 - accuracy: 0.6176\n",
      "Epoch 54/100\n",
      "484/484 [==============================] - 6s 11ms/step - loss: 2.0706 - accuracy: 0.6217\n",
      "Epoch 55/100\n",
      "484/484 [==============================] - 6s 12ms/step - loss: 2.0289 - accuracy: 0.6361\n",
      "Epoch 56/100\n",
      "484/484 [==============================] - 6s 11ms/step - loss: 1.9792 - accuracy: 0.6424\n",
      "Epoch 57/100\n",
      "484/484 [==============================] - 6s 12ms/step - loss: 1.9466 - accuracy: 0.6535\n",
      "Epoch 58/100\n",
      "484/484 [==============================] - 6s 12ms/step - loss: 1.9228 - accuracy: 0.6531\n",
      "Epoch 59/100\n",
      "484/484 [==============================] - 6s 11ms/step - loss: 1.8767 - accuracy: 0.6655\n",
      "Epoch 60/100\n",
      "484/484 [==============================] - 6s 12ms/step - loss: 1.8450 - accuracy: 0.6679\n",
      "Epoch 61/100\n",
      "484/484 [==============================] - 5s 11ms/step - loss: 1.8182 - accuracy: 0.6758\n",
      "Epoch 62/100\n",
      "484/484 [==============================] - 6s 12ms/step - loss: 1.7641 - accuracy: 0.6907\n",
      "Epoch 63/100\n",
      "484/484 [==============================] - 6s 11ms/step - loss: 1.7444 - accuracy: 0.6923\n",
      "Epoch 64/100\n",
      "484/484 [==============================] - 6s 11ms/step - loss: 1.7352 - accuracy: 0.6929\n",
      "Epoch 65/100\n",
      "484/484 [==============================] - 5s 11ms/step - loss: 1.6933 - accuracy: 0.7017\n",
      "Epoch 66/100\n",
      "484/484 [==============================] - 6s 11ms/step - loss: 1.6723 - accuracy: 0.7074\n",
      "Epoch 67/100\n",
      "484/484 [==============================] - 6s 11ms/step - loss: 1.6542 - accuracy: 0.7092\n",
      "Epoch 68/100\n",
      "484/484 [==============================] - 6s 11ms/step - loss: 1.6080 - accuracy: 0.7204\n",
      "Epoch 69/100\n",
      "484/484 [==============================] - 6s 11ms/step - loss: 1.5853 - accuracy: 0.7241\n",
      "Epoch 70/100\n",
      "484/484 [==============================] - 6s 11ms/step - loss: 1.5545 - accuracy: 0.7315\n",
      "Epoch 71/100\n",
      "484/484 [==============================] - 6s 12ms/step - loss: 1.5466 - accuracy: 0.7318\n",
      "Epoch 72/100\n",
      "484/484 [==============================] - 6s 12ms/step - loss: 1.5158 - accuracy: 0.7410\n",
      "Epoch 73/100\n",
      "484/484 [==============================] - 6s 11ms/step - loss: 1.5058 - accuracy: 0.7376\n",
      "Epoch 74/100\n",
      "484/484 [==============================] - 6s 11ms/step - loss: 1.4882 - accuracy: 0.7399\n",
      "Epoch 75/100\n",
      "484/484 [==============================] - 6s 12ms/step - loss: 1.4538 - accuracy: 0.7511\n",
      "Epoch 76/100\n",
      "484/484 [==============================] - 6s 12ms/step - loss: 1.4370 - accuracy: 0.7533\n",
      "Epoch 77/100\n",
      "484/484 [==============================] - 6s 12ms/step - loss: 1.3975 - accuracy: 0.7591\n",
      "Epoch 78/100\n",
      "484/484 [==============================] - 6s 12ms/step - loss: 1.3895 - accuracy: 0.7660\n",
      "Epoch 79/100\n",
      "484/484 [==============================] - 6s 12ms/step - loss: 1.3815 - accuracy: 0.7622\n",
      "Epoch 80/100\n",
      "484/484 [==============================] - 6s 12ms/step - loss: 1.3752 - accuracy: 0.7612\n",
      "Epoch 81/100\n",
      "484/484 [==============================] - 6s 12ms/step - loss: 1.3554 - accuracy: 0.7643\n",
      "Epoch 82/100\n",
      "484/484 [==============================] - 6s 12ms/step - loss: 1.3266 - accuracy: 0.7712\n",
      "Epoch 83/100\n",
      "484/484 [==============================] - 6s 12ms/step - loss: 1.3227 - accuracy: 0.7710\n",
      "Epoch 84/100\n",
      "484/484 [==============================] - 6s 11ms/step - loss: 1.2957 - accuracy: 0.7786\n",
      "Epoch 85/100\n",
      "484/484 [==============================] - 6s 12ms/step - loss: 1.2814 - accuracy: 0.7802\n",
      "Epoch 86/100\n",
      "484/484 [==============================] - 6s 11ms/step - loss: 1.2769 - accuracy: 0.7823\n",
      "Epoch 87/100\n",
      "484/484 [==============================] - 6s 11ms/step - loss: 1.2475 - accuracy: 0.7866\n",
      "Epoch 88/100\n",
      "484/484 [==============================] - 6s 12ms/step - loss: 1.2360 - accuracy: 0.7863\n",
      "Epoch 89/100\n",
      "484/484 [==============================] - 6s 12ms/step - loss: 1.2428 - accuracy: 0.7862\n",
      "Epoch 90/100\n",
      "484/484 [==============================] - 6s 12ms/step - loss: 1.2258 - accuracy: 0.7889\n",
      "Epoch 91/100\n",
      "484/484 [==============================] - 6s 12ms/step - loss: 1.2080 - accuracy: 0.7913\n",
      "Epoch 92/100\n",
      "484/484 [==============================] - 5s 11ms/step - loss: 1.2025 - accuracy: 0.7948\n",
      "Epoch 93/100\n",
      "484/484 [==============================] - 6s 12ms/step - loss: 1.1860 - accuracy: 0.7950\n",
      "Epoch 94/100\n",
      "484/484 [==============================] - 6s 12ms/step - loss: 1.1638 - accuracy: 0.7995\n",
      "Epoch 95/100\n",
      "484/484 [==============================] - 6s 12ms/step - loss: 1.1559 - accuracy: 0.8027\n",
      "Epoch 96/100\n",
      "484/484 [==============================] - 6s 12ms/step - loss: 1.1527 - accuracy: 0.8035\n",
      "Epoch 97/100\n",
      "484/484 [==============================] - 6s 11ms/step - loss: 1.1372 - accuracy: 0.8042\n",
      "Epoch 98/100\n",
      "484/484 [==============================] - 6s 11ms/step - loss: 1.1335 - accuracy: 0.8042\n",
      "Epoch 99/100\n",
      "484/484 [==============================] - 6s 12ms/step - loss: 1.1138 - accuracy: 0.8093\n",
      "Epoch 100/100\n",
      "484/484 [==============================] - 6s 11ms/step - loss: 1.1085 - accuracy: 0.8086\n"
     ]
    }
   ],
   "source": [
    " history = model.fit(predictors, label, epochs=100, verbose=1)"
   ]
  },
  {
   "cell_type": "code",
   "execution_count": 6,
   "metadata": {
    "colab": {
     "base_uri": "https://localhost:8080/",
     "height": 545
    },
    "colab_type": "code",
    "id": "1fXTEO3GJ282",
    "outputId": "5076f84c-45e4-4d58-d4c3-59e79cdb51dc"
   },
   "outputs": [
    {
     "data": {
      "image/png": "[encoded data removed]",
      "text/plain": [
       "<Figure size 432x288 with 1 Axes>"
      ]
     },
     "metadata": {
      "needs_background": "light",
      "tags": []
     },
     "output_type": "display_data"
    },
    {
     "data": {
      "image/png": "[encoded data removed]",
      "text/plain": [
       "<Figure size 432x288 with 1 Axes>"
      ]
     },
     "metadata": {
      "needs_background": "light",
      "tags": []
     },
     "output_type": "display_data"
    }
   ],
   "source": [
    "import matplotlib.pyplot as plt\n",
    "acc = history.history['accuracy']\n",
    "loss = history.history['loss']\n",
    "\n",
    "epochs = range(len(acc))\n",
    "\n",
    "plt.plot(epochs, acc, 'b', label='Training accuracy')\n",
    "plt.title('Training accuracy')\n",
    "\n",
    "plt.figure()\n",
    "\n",
    "plt.plot(epochs, loss, 'b', label='Training Loss')\n",
    "plt.title('Training loss')\n",
    "plt.legend()\n",
    "\n",
    "plt.show()"
   ]
  },
  {
   "cell_type": "code",
   "execution_count": 7,
   "metadata": {
    "colab": {
     "base_uri": "https://localhost:8080/",
     "height": 105
    },
    "colab_type": "code",
    "id": "6Vc6PHgxa6Hm",
    "outputId": "0c349d58-9f1c-45bb-8d5b-927ace538e77"
   },
   "outputs": [
    {
     "name": "stdout",
     "output_type": "stream",
     "text": [
      "WARNING:tensorflow:From <ipython-input-7-622d307fa19a>:7: Sequential.predict_classes (from tensorflow.python.keras.engine.sequential) is deprecated and will be removed after 2021-01-01.\n",
      "Instructions for updating:\n",
      "Please use instead:* `np.argmax(model.predict(x), axis=-1)`,   if your model does multi-class classification   (e.g. if it uses a `softmax` last-layer activation).* `(model.predict(x) > 0.5).astype(\"int32\")`,   if your model does binary classification   (e.g. if it uses a `sigmoid` last-layer activation).\n",
      "Help me Obi Wan Kenobi, you're my only hope black nor his waste was in one staineth past one deem'd greater end behind things kill'd staineth staineth staineth staineth date wind bettering days new cross grow dead shade tear light queen delighted hate light rhyme grow ' new date dead queen near sit light sit sit cross gain doth live bright thee doth be bright give hell so wit before give hell doth store things gone so present wide rhyme same night give groan of spend find be were dyed seen green thee still give cherish decease twain night so cold did chary rage right care alone meet would\n"
     ]
    }
   ],
   "source": [
    "seed_text = \"Help me Obi Wan Kenobi, you're my only hope\"\n",
    "next_words = 100\n",
    "  \n",
    "for _ in range(next_words):\n",
    "\ttoken_list = tokenizer.texts_to_sequences([seed_text])[0]\n",
    "\ttoken_list = pad_sequences([token_list], maxlen=max_sequence_len-1, padding='pre')\n",
    "\tpredicted = model.predict_classes(token_list, verbose=0)\n",
    "\toutput_word = \"\"\n",
    "\tfor word, index in tokenizer.word_index.items():\n",
    "\t\tif index == predicted:\n",
    "\t\t\toutput_word = word\n",
    "\t\t\tbreak\n",
    "\tseed_text += \" \" + output_word\n",
    "print(seed_text)"
   ]
  }
 ],
 "metadata": {
  "accelerator": "GPU",
  "colab": {
   "name": "NLP_Week4_Exercise_Shakespeare_Answer.ipynb",
   "provenance": [],
   "toc_visible": true
  },
  "kernelspec": {
   "display_name": "Python 3",
   "language": "python",
   "name": "python3"
  },
  "language_info": {
   "codemirror_mode": {
    "name": "ipython",
    "version": 3
   },
   "file_extension": ".py",
   "mimetype": "text/x-python",
   "name": "python",
   "nbconvert_exporter": "python",
   "pygments_lexer": "ipython3",
   "version": "3.7.4"
  }
 },
 "nbformat": 4,
 "nbformat_minor": 4
}
